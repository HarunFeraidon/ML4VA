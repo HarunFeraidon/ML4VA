{
  "cells": [
    {
      "cell_type": "code",
      "source": [
        "import pandas as pd\n",
        "import numpy as np"
      ],
      "outputs": [],
      "execution_count": null,
      "metadata": {
        "collapsed": false,
        "outputHidden": false,
        "inputHidden": false
      }
    },
    {
      "cell_type": "code",
      "source": [
        "df = pd.read_csv(\"data/ticket_data.csv\")\n",
        "df.dropna(inplace=True)\n",
        "df.head()"
      ],
      "outputs": [],
      "execution_count": null,
      "metadata": {
        "collapsed": false,
        "outputHidden": false,
        "inputHidden": false
      }
    },
    {
      "cell_type": "code",
      "source": [
        "\n",
        "\n",
        "def fix_time(time):\n",
        "    time = str(time).strip().replace(\".\", \"\")\n",
        "    if len(time) == 1:\n",
        "        time = \"0\" + time\n",
        "    if \":\" not in time:\n",
        "        if (len(time)) == 5:\n",
        "            time = time[:-1]\n",
        "        time = time[:-2] + \":\" + time[-2:]\n",
        "    t = f\"{'0' * max(5-len(time),0)}{time}:00\"\n",
        "    if int(t[:2]) < 1 or int(t[:2]) > 24:\n",
        "        t = np.nan\n",
        "    return t\n",
        "\n"
      ],
      "outputs": [],
      "execution_count": null,
      "metadata": {
        "collapsed": false,
        "outputHidden": false,
        "inputHidden": false
      }
    },
    {
      "cell_type": "code",
      "source": [
        "df[\"DateIssued\"] = df[\"DateIssued\"].apply(lambda x: x[:10] if int(x[:2]) <= 21 else np.nan)\n",
        "df[\"TimeIssued\"] = df[\"TimeIssued\"].apply(fix_time)\n",
        "df[\"DateIssued\"] = pd.to_datetime(df[\"DateIssued\"])\n",
        "df[\"DayIssued\"] = df[\"DateIssued\"].dt.weekday_name\n",
        "df[\"ViolationDescription\"] = df[\"ViolationDescription\"].apply(lambda x: x.strip())\n"
      ],
      "outputs": [],
      "execution_count": null,
      "metadata": {
        "collapsed": false,
        "outputHidden": false,
        "inputHidden": false
      }
    },
    {
      "cell_type": "code",
      "source": [
        "df = df.where((df[\"latitude\"] < 38.4) & (df[\"AppealStatus\"] != \"pending\"))\n",
        "df.dropna(inplace=True)\n",
        "df[\"Hour\"] = df[\"TimeIssued\"].apply(lambda x: int(x[:2]))\n"
      ],
      "outputs": [],
      "execution_count": null,
      "metadata": {
        "collapsed": false,
        "outputHidden": false,
        "inputHidden": false
      }
    },
    {
      "cell_type": "code",
      "source": [
        "df.to_csv(\"data/cleaned_data.csv\", index=False)\n",
        "\n",
        "\n",
        "# "
      ],
      "outputs": [],
      "execution_count": null,
      "metadata": {
        "collapsed": false,
        "outputHidden": false,
        "inputHidden": false
      }
    },
    {
      "cell_type": "code",
      "source": [
        "# g = GoogleV3(api_key)\n",
        "# locations = df[\"Location\"].unique()\n",
        "# locations = pd.DataFrame(locations, columns=[\"Location\"])\n",
        "# locations[\"latitude\"] = np.nan\n",
        "# locations[\"longitude\"] = np.nan\n",
        "# locations.head()\n",
        "# "
      ],
      "outputs": [],
      "execution_count": null,
      "metadata": {
        "collapsed": false,
        "outputHidden": false,
        "inputHidden": false
      }
    },
    {
      "cell_type": "code",
      "source": [
        "# current_index = 0\n",
        "# while current_index < locations.shape[0]:\n",
        "#     try:\n",
        "#         coords = g.geocode(locations.iloc[current_index, 0].strip() + \", Charlottesville, VA\")\n",
        "#         if coords:\n",
        "#             locations.iloc[current_index, 1] = coords.latitude\n",
        "#             locations.iloc[current_index, 2] = coords.longitude\n",
        "#         current_index += 1\n",
        "#         print(f\"{current_index}/{locations.shape[0]}\")\n",
        "#     except:  # timeout exception, don't remember what it is.\n",
        "#         print(f\"Error on the access for {locations.iloc[current_index, 0]}.  Trying again.\")\n",
        "#\n",
        "# locations.to_csv(\"GPS_data.csv\")"
      ],
      "outputs": [],
      "execution_count": null,
      "metadata": {
        "collapsed": false,
        "outputHidden": false,
        "inputHidden": false
      }
    }
  ],
  "metadata": {},
  "nbformat": 4,
  "nbformat_minor": 0
}