{
  "cells": [
    {
      "cell_type": "code",
      "source": [
        "from config import api_key\n",
        "from geopy.geocoders import GoogleV3\n",
        "from collections import Counter\n",
        "import pandas as pd\n",
        "import numpy as np\n",
        "import matplotlib.pyplot as plt\n",
        "from config import api_key\n"
      ],
      "outputs": [],
      "execution_count": null,
      "metadata": {
        "collapsed": false,
        "outputHidden": false,
        "inputHidden": false
      }
    },
    {
      "cell_type": "code",
      "source": [
        "\n\n",
        "def fix_time(time):\n",
        "    time = str(time).strip().replace(\".\", \"\")\n",
        "    if len(time) == 1:\n",
        "        time = \"0\" + time\n",
        "    if \":\" not in time:\n",
        "        if (len(time)) == 5:\n",
        "            time = time[:-1]\n",
        "        time = time[:-2] + \":\" + time[-2:]\n",
        "    return f\"{'0' * max(5-len(time),0)}{time}:00\"\n",
        "\n"
      ],
      "outputs": [],
      "execution_count": null,
      "metadata": {
        "collapsed": false,
        "outputHidden": false,
        "inputHidden": false
      }
    },
    {
      "cell_type": "code",
      "source": [
        "df = pd.read_csv(\"Parking_Tickets.csv\")\n",
        "df = df.iloc[:, [13, 2, 4, 11, 12]]\n",
        "df.head()\n"
      ],
      "outputs": [],
      "execution_count": null,
      "metadata": {
        "collapsed": false,
        "outputHidden": false,
        "inputHidden": false
      }
    },
    {
      "cell_type": "code",
      "source": [
        "c = Counter(df[\"Location\"])\n",
        "c.most_common()\n"
      ],
      "outputs": [],
      "execution_count": null,
      "metadata": {
        "collapsed": false,
        "outputHidden": false,
        "inputHidden": false
      }
    },
    {
      "cell_type": "code",
      "source": [
        "\n",
        "g = GoogleV3(api_key)\n",
        "locations = df[\"Location\"].unique()\n",
        "locations = pd.DataFrame(locations, columns=[\"Location\"])\n",
        "locations[\"latitude\"] = np.nan\n",
        "locations[\"longitude\"] = np.nan\n",
        "locations.head()"
      ],
      "outputs": [],
      "execution_count": null,
      "metadata": {
        "collapsed": false,
        "outputHidden": false,
        "inputHidden": false
      }
    },
    {
      "cell_type": "code",
      "source": [
        "current_index = 0\n",
        "while current_index < locations.shape[0]:\n",
        "    try:\n",
        "        coords = g.geocode(locations.iloc[current_index, 0].strip() + \", Charlottesville, VA\")\n",
        "        if coords:\n",
        "            locations.iloc[current_index, 1] = coords.latitude\n",
        "            locations.iloc[current_index, 2] = coords.longitude\n",
        "        current_index += 1\n",
        "        print(f\"{current_index}/{locations.shape[0]}\")\n",
        "    except:  # timeout exception, don't remember what it is.\n",
        "        print(f\"Error on the access for {locations.iloc[current_index, 0]}.  Trying again.\")\n",
        "\n",
        "locations.to_csv(\"GPS_data.csv\")\n"
      ],
      "outputs": [],
      "execution_count": null,
      "metadata": {
        "collapsed": false,
        "outputHidden": false,
        "inputHidden": false
      }
    },
    {
      "cell_type": "code",
      "source": [
        "plt.scatter(locations[\"latitude\"], locations[\"longitude\"])\n"
      ],
      "outputs": [],
      "execution_count": null,
      "metadata": {
        "collapsed": false,
        "outputHidden": false,
        "inputHidden": false
      }
    },
    {
      "cell_type": "code",
      "source": [
        "df.describe()\n"
      ],
      "outputs": [],
      "execution_count": null,
      "metadata": {
        "collapsed": false,
        "outputHidden": false,
        "inputHidden": false
      }
    },
    {
      "cell_type": "code",
      "source": [
        "df[\"AppealStatus\"].fillna(\"No Appeal\", inplace=True)\n",
        "df[\"DateIssued\"] = df[\"DateIssued\"].apply(lambda x: x[:10] if int(x[:2]) <= 21 else np.nan)\n",
        "df[\"TimeIssued\"] = df[\"TimeIssued\"].apply(fix_time)\n",
        "df.dropna(inplace=True)\n"
      ],
      "outputs": [],
      "execution_count": null,
      "metadata": {
        "collapsed": false,
        "outputHidden": false,
        "inputHidden": false
      }
    },
    {
      "cell_type": "code",
      "source": [
        "df.info()  # there's only like 22 null rows, so I'll just drop them\n",
        "df.head()\n",
        "# pd.to_datetime(df[\"DateIssued\"] + \" \" + df[\"TimeIssued\"]).head()\n",
        "s = set()\n",
        "for time in df[\"TimeIssued\"]:\n",
        "    try:\n",
        "        if int(time[3:5]) > 59:\n",
        "            s.add(time)\n",
        "    except:\n",
        "        s.add(time)\n",
        "for val in list(s):\n",
        "    print(val)"
      ],
      "outputs": [],
      "execution_count": null,
      "metadata": {
        "collapsed": false,
        "outputHidden": false,
        "inputHidden": false
      }
    }
  ],
  "metadata": {
    "kernelspec": {
      "argv": [
        "python3",
        "-m",
        "ipykernel_launcher",
        "-f",
        "{connection_file}"
      ],
      "display_name": "Python 3",
      "language": "python",
      "name": "python3"
    }
  },
  "nbformat": 4,
  "nbformat_minor": 4
}