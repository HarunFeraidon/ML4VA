{
  "cells": [
    {
      "cell_type": "code",
      "source": [
        "from mpl_toolkits.mplot3d import Axes3D\n",
        "import warnings\n",
        "from sklearn.metrics import roc_auc_score\n",
        "from sklearn.svm import SVC\n",
        "from sklearn.metrics import roc_curve\n",
        "from sklearn.metrics import precision_score, recall_score, f1_score, accuracy_score\n",
        "from sklearn.svm import LinearSVC\n",
        "import pandas as pd\n",
        "import numpy as np\n",
        "import matplotlib.pyplot as plt\n",
        "from sklearn.model_selection import train_test_split, cross_val_predict, cross_validate, GridSearchCV\n",
        "from pandas.plotting import scatter_matrix  # optional\n",
        "from sklearn.preprocessing import Imputer\n",
        "from sklearn.preprocessing import LabelEncoder\n",
        "from sklearn.preprocessing import OneHotEncoder\n",
        "from sklearn.pipeline import Pipeline\n",
        "from sklearn.preprocessing import StandardScaler\n",
        "%matplotlib inline\n"
      ],
      "outputs": [],
      "execution_count": null,
      "metadata": {
        "collapsed": false,
        "outputHidden": false,
        "inputHidden": false
      }
    },
    {
      "cell_type": "code",
      "source": [
        "df = pd.read_csv(\"ticket_data.csv\")\n",
        "df.dropna(inplace=True)\n",
        "df.head()\n"
      ],
      "outputs": [],
      "execution_count": null,
      "metadata": {
        "collapsed": false,
        "outputHidden": false,
        "inputHidden": false
      }
    },
    {
      "cell_type": "code",
      "source": [
        "\n\n",
        "def fix_time(time):\n",
        "    time = str(time).strip().replace(\".\", \"\")\n",
        "    if len(time) == 1:\n",
        "        time = \"0\" + time\n",
        "    if \":\" not in time:\n",
        "        if (len(time)) == 5:\n",
        "            time = time[:-1]\n",
        "        time = time[:-2] + \":\" + time[-2:]\n",
        "    return f\"{'0' * max(5-len(time),0)}{time}:00\"\n",
        "\n"
      ],
      "outputs": [],
      "execution_count": null,
      "metadata": {
        "collapsed": false,
        "outputHidden": false,
        "inputHidden": false
      }
    },
    {
      "cell_type": "code",
      "source": [
        "df[\"DateIssued\"] = df[\"DateIssued\"].apply(lambda x: x[:10] if int(x[:2]) <= 21 else np.nan)\n",
        "df[\"TimeIssued\"] = df[\"TimeIssued\"].apply(fix_time)\n",
        "df.head()"
      ],
      "outputs": [],
      "execution_count": null,
      "metadata": {
        "collapsed": false,
        "outputHidden": false,
        "inputHidden": false
      }
    },
    {
      "cell_type": "code",
      "source": [
        "X = df.iloc[:, [0, 1, 2, 3, 5, 6]]\n",
        "y = df.iloc[:, 4]\n",
        "X_train, X_test, y_train, y_test = train_test_split(X, y, test_size=.2, random_state=42)\n",
        "df_train = pd.concat([X_train, y_train], axis=1)\n",
        "df_test = pd.concat([X_test, y_test], axis=1)"
      ],
      "outputs": [],
      "execution_count": null,
      "metadata": {
        "collapsed": false,
        "outputHidden": false,
        "inputHidden": false
      }
    }
  ],
  "metadata": {
    "kernelspec": {
      "argv": [
        "python3",
        "-m",
        "ipykernel_launcher",
        "-f",
        "{connection_file}"
      ],
      "display_name": "Python 3",
      "language": "python",
      "name": "python3"
    }
  },
  "nbformat": 4,
  "nbformat_minor": 4
}